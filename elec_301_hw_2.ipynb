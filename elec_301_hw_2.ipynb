{
 "cells": [
  {
   "cell_type": "code",
   "execution_count": null,
   "source": [
    "#Anyssa Castorina\r\n",
    "#elec 301 hw 2\r\n",
    "import scipy.io as sc\r\n",
    "from scipy import signal\r\n",
    "import numpy as np\r\n",
    "import matplotlib\r\n",
    "import matplotlib.image as im\r\n",
    "import matplotlib.pyplot as plt\r\n",
    "import time\r\n",
    "import struct\r\n",
    "from sklearn.metrics.pairwise import  cosine_similarity\r\n",
    "\r\n",
    "#question 2: implement mean and median filters\r\n"
   ],
   "outputs": [],
   "metadata": {}
  }
 ],
 "metadata": {
  "orig_nbformat": 4,
  "language_info": {
   "name": "python"
  }
 },
 "nbformat": 4,
 "nbformat_minor": 2
}